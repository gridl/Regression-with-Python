{
 "cells": [
  {
   "cell_type": "markdown",
   "metadata": {},
   "source": [
    "# (Non) linear fit in Python"
   ]
  },
  {
   "cell_type": "code",
   "execution_count": 15,
   "metadata": {
    "collapsed": true
   },
   "outputs": [],
   "source": [
    "import numpy as np\n",
    "import matplotlib.pyplot as plt\n",
    "import pandas as pd\n",
    "from scipy.optimize import curve_fit\n",
    "from scipy import stats"
   ]
  },
  {
   "cell_type": "markdown",
   "metadata": {},
   "source": [
    "## Linear fit in Python with scipy and numpy"
   ]
  },
  {
   "cell_type": "markdown",
   "metadata": {},
   "source": [
    "Linear regression is very easy to do with `scipy`. The documentation of the package is wonderful, you can find complete examples that can be copied and run in your notebook and very easily adapted to your case.\n",
    "\n",
    "The simplest kind of linear regression involves taking a set of data ($x_i$,$y_i$), and trying to determine the \"best\" linear relationship \n",
    "\n",
    "$$\n",
    "y_i = bx_i+a\n",
    "$$\n",
    "\n",
    "We will use some interesting data to build our model. We will study Cricket Chirps Vs. Temperature. The data can be found in this csv file"
   ]
  },
  {
   "cell_type": "code",
   "execution_count": 4,
   "metadata": {
    "collapsed": false
   },
   "outputs": [
    {
     "data": {
      "text/html": [
       "<div>\n",
       "<table border=\"1\" class=\"dataframe\">\n",
       "  <thead>\n",
       "    <tr style=\"text-align: right;\">\n",
       "      <th></th>\n",
       "      <th>X</th>\n",
       "      <th>Y</th>\n",
       "    </tr>\n",
       "  </thead>\n",
       "  <tbody>\n",
       "    <tr>\n",
       "      <th>0</th>\n",
       "      <td>20.000000</td>\n",
       "      <td>88.599998</td>\n",
       "    </tr>\n",
       "    <tr>\n",
       "      <th>1</th>\n",
       "      <td>16.000000</td>\n",
       "      <td>71.599998</td>\n",
       "    </tr>\n",
       "    <tr>\n",
       "      <th>2</th>\n",
       "      <td>19.799999</td>\n",
       "      <td>93.300003</td>\n",
       "    </tr>\n",
       "    <tr>\n",
       "      <th>3</th>\n",
       "      <td>18.400000</td>\n",
       "      <td>84.300003</td>\n",
       "    </tr>\n",
       "    <tr>\n",
       "      <th>4</th>\n",
       "      <td>17.100000</td>\n",
       "      <td>80.599998</td>\n",
       "    </tr>\n",
       "  </tbody>\n",
       "</table>\n",
       "</div>"
      ],
      "text/plain": [
       "           X        \\tY\n",
       "0  20.000000  88.599998\n",
       "1  16.000000  71.599998\n",
       "2  19.799999  93.300003\n",
       "3  18.400000  84.300003\n",
       "4  17.100000  80.599998"
      ]
     },
     "execution_count": 4,
     "metadata": {},
     "output_type": "execute_result"
    }
   ],
   "source": [
    "chirps = pd.read_csv('chirps.csv')\n",
    "chirps.head()"
   ]
  },
  {
   "cell_type": "markdown",
   "metadata": {},
   "source": [
    "In the following data\n",
    "\n",
    " $X$ = chirps/sec for the striped ground cricket\n",
    " \n",
    " $Y$ = temperature in degrees Fahrenheit\n",
    "\n",
    "**Reference**: The Song of Insects by Dr.G.W. Pierce, Harvard College Press\n",
    "\n",
    "**Data download Link**:\n",
    "\n",
    "http://college.cengage.com/mathematics/brase/understandable_statistics/7e/students/datasets/slr/frames/slr02.html"
   ]
  },
  {
   "cell_type": "markdown",
   "metadata": {},
   "source": [
    "Let's first change the names of the colummns so that we know what we are dealing with"
   ]
  },
  {
   "cell_type": "code",
   "execution_count": 8,
   "metadata": {
    "collapsed": false
   },
   "outputs": [
    {
     "data": {
      "text/html": [
       "<div>\n",
       "<table border=\"1\" class=\"dataframe\">\n",
       "  <thead>\n",
       "    <tr style=\"text-align: right;\">\n",
       "      <th></th>\n",
       "      <th>chirpspersec</th>\n",
       "      <th>T</th>\n",
       "    </tr>\n",
       "  </thead>\n",
       "  <tbody>\n",
       "    <tr>\n",
       "      <th>0</th>\n",
       "      <td>20.000000</td>\n",
       "      <td>88.599998</td>\n",
       "    </tr>\n",
       "    <tr>\n",
       "      <th>1</th>\n",
       "      <td>16.000000</td>\n",
       "      <td>71.599998</td>\n",
       "    </tr>\n",
       "    <tr>\n",
       "      <th>2</th>\n",
       "      <td>19.799999</td>\n",
       "      <td>93.300003</td>\n",
       "    </tr>\n",
       "    <tr>\n",
       "      <th>3</th>\n",
       "      <td>18.400000</td>\n",
       "      <td>84.300003</td>\n",
       "    </tr>\n",
       "    <tr>\n",
       "      <th>4</th>\n",
       "      <td>17.100000</td>\n",
       "      <td>80.599998</td>\n",
       "    </tr>\n",
       "  </tbody>\n",
       "</table>\n",
       "</div>"
      ],
      "text/plain": [
       "   chirpspersec          T\n",
       "0     20.000000  88.599998\n",
       "1     16.000000  71.599998\n",
       "2     19.799999  93.300003\n",
       "3     18.400000  84.300003\n",
       "4     17.100000  80.599998"
      ]
     },
     "execution_count": 8,
     "metadata": {},
     "output_type": "execute_result"
    }
   ],
   "source": [
    "chirps.columns = ['chirpspersec', 'T']\n",
    "chirps.head()"
   ]
  },
  {
   "cell_type": "markdown",
   "metadata": {},
   "source": [
    "Let's look how the data looks like"
   ]
  },
  {
   "cell_type": "code",
   "execution_count": 13,
   "metadata": {
    "collapsed": false
   },
   "outputs": [
    {
     "data": {
      "image/png": "[encoded data removed]",
      "text/plain": [
       "<matplotlib.figure.Figure at 0xcbf2a50>"
      ]
     },
     "metadata": {},
     "output_type": "display_data"
    }
   ],
   "source": [
    "plt.scatter(chirps['T'], chirps['chirpspersec'])\n",
    "plt.xlabel('Temperature (F)')\n",
    "plt.ylabel(\"chirps / sec\")\n",
    "plt.show()"
   ]
  },
  {
   "cell_type": "markdown",
   "metadata": {},
   "source": [
    "Looking at the data we could try to model it with a linear formula and see what we can get."
   ]
  },
  {
   "cell_type": "code",
   "execution_count": 17,
   "metadata": {
    "collapsed": false
   },
   "outputs": [],
   "source": [
    "b, a, r_value, p_value, slope_std_error = stats.linregress(chirps['T'], chirps['chirpspersec'])"
   ]
  },
  {
   "cell_type": "markdown",
   "metadata": {},
   "source": [
    "Now we have all the values we need"
   ]
  },
  {
   "cell_type": "code",
   "execution_count": 29,
   "metadata": {
    "collapsed": false
   },
   "outputs": [
    {
     "name": "stdout",
     "output_type": "stream",
     "text": [
      "Intercept =  -0.309141898181\n",
      "Slope =  0.211924978337\n",
      "R Value =  0.835143787031\n",
      "p value =  0.000106671854996\n",
      "Slope standard error =  0.0387112259396\n"
     ]
    }
   ],
   "source": [
    "print('Intercept = ', a)\n",
    "print('Slope = ', b)\n",
    "print('R Value = ', r_value)\n",
    "print('p value = ', p_value)\n",
    "print('Slope standard error = ', slope_std_error)"
   ]
  },
  {
   "cell_type": "markdown",
   "metadata": {},
   "source": [
    "Now we can calculate the prediction to plot our results (and some errors while we are at it)"
   ]
  },
  {
   "cell_type": "code",
   "execution_count": 30,
   "metadata": {
    "collapsed": false
   },
   "outputs": [],
   "source": [
    "# Calculate some additional outputs\n",
    "predict_y = a + b * chirps['T']\n",
    "pred_error = chirps['chirpspersec'] - predict_y\n",
    "degrees_of_freedom = len(chirps['T']) - 2\n",
    "residual_std_error = np.sqrt(np.sum(pred_error**2) / degrees_of_freedom)"
   ]
  },
  {
   "cell_type": "markdown",
   "metadata": {},
   "source": [
    "Now that we have the values from our regression we can fit our line and see how it compares with our points"
   ]
  },
  {
   "cell_type": "code",
   "execution_count": 21,
   "metadata": {
    "collapsed": false
   },
   "outputs": [
    {
     "data": {
      "image/png": "[encoded data removed]",
      "text/plain": [
       "<matplotlib.figure.Figure at 0xd065210>"
      ]
     },
     "metadata": {},
     "output_type": "display_data"
    }
   ],
   "source": [
    "plt.plot(chirps['T'], chirps['chirpspersec'], 'o')\n",
    "plt.plot(chirps['T'], predict_y, 'k-')\n",
    "plt.xlabel('Temperature (F)')\n",
    "plt.ylabel(\"chirps / sec\")\n",
    "plt.show()"
   ]
  },
  {
   "cell_type": "markdown",
   "metadata": {},
   "source": [
    "## Non linear fit in Python with scipy and numpy"
   ]
  },
  {
   "cell_type": "markdown",
   "metadata": {},
   "source": [
    "Note: this example has been taken from a post I wrote on stackoverflow when I explainws a poster how to do non linear fit in Python (Link: https://stackoverflow.com/questions/45033230/multivariate-linear-regression-using-a-defined-function-on-python)"
   ]
  },
  {
   "cell_type": "markdown",
   "metadata": {},
   "source": [
    "We need to define a function that we will use for fitting our data. In this example `p` is an array containing our input values (sometimes indicated as `x`). In our function we will not do any sanity check (for example if all components of `p` are numbers and so on). This can be done by `curve_fit` using the parameter `check_finite` (Check the documentation [scipy.curve_fit documentation](https://docs.scipy.org/doc/scipy-0.19.0/reference/generated/scipy.optimize.curve_fit.html)). The fit parameters are in this example `a,b,c`. "
   ]
  },
  {
   "cell_type": "code",
   "execution_count": 35,
   "metadata": {
    "collapsed": false
   },
   "outputs": [],
   "source": [
    "def func(p, a, b, c): \n",
    "    return a*p[0] + b*(p[0]/(p[0]+p[1]+p[2]))+c"
   ]
  },
  {
   "cell_type": "markdown",
   "metadata": {},
   "source": [
    "Now let's create some fake data. Our `p_*` arrays will be our input data, and `s_1` will be our expected output. After having defined the data as Python lists, we will convert to numpy arrays."
   ]
  },
  {
   "cell_type": "code",
   "execution_count": 36,
   "metadata": {
    "collapsed": true
   },
   "outputs": [],
   "source": [
    "p_1_data = [6799, 7999, 7999, 7999]\n",
    "p_2_data = [10199, 10799, 10199, 11999]\n",
    "p_3_data = [10199, 10799, 10199, 11999]\n",
    "s_1_data = [3, 2.3, 2.2, 2.2]\n",
    "\n",
    "xdata = np.vstack((p_1_data, p_2_data, p_3_data))\n",
    "s_1_data = np.array(s_1_data)\n"
   ]
  },
  {
   "cell_type": "markdown",
   "metadata": {},
   "source": [
    "Each column in xdata repsent an observation. So the first element in the first column would be p[0], the second p[1] and the third p[1]. The second column is a separate observation and so on."
   ]
  },
  {
   "cell_type": "code",
   "execution_count": 37,
   "metadata": {
    "collapsed": false
   },
   "outputs": [
    {
     "name": "stdout",
     "output_type": "stream",
     "text": [
      "[[ 6799  7999  7999  7999]\n",
      " [10199 10799 10199 11999]\n",
      " [10199 10799 10199 11999]]\n",
      "[ 3.   2.3  2.2  2.2]\n"
     ]
    }
   ],
   "source": [
    "print(xdata)\n",
    "print(s_1_data)"
   ]
  },
  {
   "cell_type": "markdown",
   "metadata": {},
   "source": [
    "Now we do the actual fitting, calling the `curve_fit` function."
   ]
  },
  {
   "cell_type": "code",
   "execution_count": 38,
   "metadata": {
    "collapsed": false
   },
   "outputs": [],
   "source": [
    "popt, pcov = curve_fit(func, xdata, s_1_data)"
   ]
  },
  {
   "cell_type": "markdown",
   "metadata": {},
   "source": [
    "In the `popt` list we wil find the parameters found by the function, and in the `pcov` the covariance matrix.\n",
    "\n",
    "Note that the algorithm uses the Levenberg-Marquardt algorithm through [leastsq](https://docs.scipy.org/doc/scipy-0.19.0/reference/generated/scipy.optimize.leastsq.html#scipy.optimize.leastsq). Note that this algorithm can only deal with unconstrained problems."
   ]
  },
  {
   "cell_type": "code",
   "execution_count": 39,
   "metadata": {
    "collapsed": false,
    "scrolled": true
   },
   "outputs": [
    {
     "name": "stdout",
     "output_type": "stream",
     "text": [
      " fit coefficients (a, b, c):\n",
      " [ -6.47154460e-04   5.72580624e-01   7.25686328e+00]\n"
     ]
    }
   ],
   "source": [
    "print (' fit coefficients (a, b, c):\\n', popt)"
   ]
  },
  {
   "cell_type": "markdown",
   "metadata": {},
   "source": [
    "Now let's check the predictions of our model and compare them with the expected values"
   ]
  },
  {
   "cell_type": "code",
   "execution_count": 40,
   "metadata": {
    "collapsed": false
   },
   "outputs": [
    {
     "name": "stdout",
     "output_type": "stream",
     "text": [
      "Predicted value:  3.00 - Expected value:  3.0\n",
      "Predicted value:  2.24 - Expected value:  2.3\n",
      "Predicted value:  2.24 - Expected value:  2.2\n",
      "Predicted value:  2.22 - Expected value:  2.2\n"
     ]
    }
   ],
   "source": [
    "for i in range(0,4):\n",
    "    print('Predicted value: ', \"%.2f\" % func(xdata[:,i], popt[0], popt[1], popt[2]), '- Expected value: ', s_1_data[i])"
   ]
  },
  {
   "cell_type": "markdown",
   "metadata": {
    "collapsed": true
   },
   "source": [
    "Now we cannot plot easily the data since our input data is 3 dimensional, but the prediction gives us an idea of how good we got our model."
   ]
  },
  {
   "cell_type": "markdown",
   "metadata": {},
   "source": [
    "Errors on the coefficients can be found on the diagonal of the `pcov` matrix that the function `curve_fit` has calculated for us."
   ]
  },
  {
   "cell_type": "code",
   "execution_count": 41,
   "metadata": {
    "collapsed": false
   },
   "outputs": [
    {
     "data": {
      "text/plain": [
       "array([[  8.64429667e-09,  -1.82040566e-04,  -1.86788895e-05],\n",
       "       [ -1.82040566e-04,   1.26104986e+01,  -1.91481481e+00],\n",
       "       [ -1.86788895e-05,  -1.91481481e+00,   6.48996702e-01]])"
      ]
     },
     "execution_count": 41,
     "metadata": {},
     "output_type": "execute_result"
    }
   ],
   "source": [
    "pcov"
   ]
  }
 ],
 "metadata": {
  "kernelspec": {
   "display_name": "Python 3",
   "language": "python",
   "name": "python3"
  },
  "language_info": {
   "codemirror_mode": {
    "name": "ipython",
    "version": 3
   },
   "file_extension": ".py",
   "mimetype": "text/x-python",
   "name": "python",
   "nbconvert_exporter": "python",
   "pygments_lexer": "ipython3",
   "version": "3.6.0"
  }
 },
 "nbformat": 4,
 "nbformat_minor": 2
}
